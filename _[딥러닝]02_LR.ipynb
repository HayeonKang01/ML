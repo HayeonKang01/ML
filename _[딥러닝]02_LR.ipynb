{
  "nbformat": 4,
  "nbformat_minor": 0,
  "metadata": {
    "colab": {
      "name": "\b[딥러닝]02_LR.ipynb",
      "provenance": [],
      "collapsed_sections": []
    },
    "kernelspec": {
      "name": "python3",
      "display_name": "Python 3"
    },
    "language_info": {
      "name": "python"
    },
    "accelerator": "GPU"
  },
  "cells": [
    {
      "cell_type": "code",
      "execution_count": 1,
      "metadata": {
        "id": "eZe0LIKPNr-9"
      },
      "outputs": [],
      "source": [
        "import numpy as np\n",
        "import pandas as pd\n",
        "from sklearn import metrics\n",
        "from sklearn.datasets import fetch_openml"
      ]
    },
    {
      "cell_type": "code",
      "source": [
        "mnist = fetch_openml('mnist_784')\n",
        "mnist.data.shape, mnist.target.shape\n",
        "x_data = mnist.data\n",
        "y_data = mnist.target.astype(int)"
      ],
      "metadata": {
        "id": "wCcvo70pOCtC"
      },
      "execution_count": 6,
      "outputs": []
    },
    {
      "cell_type": "code",
      "source": [
        "from sklearn.model_selection import train_test_split\n",
        "import torch\n",
        "import torchvision\n",
        "\n",
        "device = 'cpu'\n",
        "X_train, X_test, y_train, y_test = train_test_split(x_data, y_data, test_size=0.2, random_state=42)\n",
        "X_train, X_test = torch.Tensor(X_train.values), torch.Tensor(X_test.values)\n",
        "y_train, y_test = torch.Tensor(y_train.values), torch.Tensor(y_test.values)\n",
        "X_train = X_train.to(device)\n",
        "X_test = X_test.to(device)\n",
        "y_train = y_train.to(device)\n",
        "y_test = y_test.to(device)\n",
        "\n",
        "print(X_train.shape)\n",
        "print(X_test.shape)\n",
        "print(y_train.shape)\n",
        "print(y_test.shape)"
      ],
      "metadata": {
        "colab": {
          "base_uri": "https://localhost:8080/"
        },
        "id": "ew7jf0ySN1lr",
        "outputId": "b0345d77-455a-48ff-943e-fb3b450a6bfb"
      },
      "execution_count": 7,
      "outputs": [
        {
          "output_type": "stream",
          "name": "stdout",
          "text": [
            "torch.Size([56000, 784])\n",
            "torch.Size([14000, 784])\n",
            "torch.Size([56000])\n",
            "torch.Size([14000])\n"
          ]
        }
      ]
    },
    {
      "cell_type": "markdown",
      "source": [
        "### Model \n",
        "- model(주로 신경망)의 구조를 선언하는 부분\n",
        "- __init__, forward 부분이 필요함\n",
        "- torch.nn.Linear / torch.sigmoid"
      ],
      "metadata": {
        "id": "1On8WpCrPs4Q"
      }
    },
    {
      "cell_type": "code",
      "source": [
        "# LogisticRegression Model\n",
        "import torch.nn as nn\n",
        "class LogisticRegression(torch.nn.Module):\n",
        "  def __init__(self, input_dim, output_dim):\n",
        "    super(LogisticRegression, self).__init__()\n",
        "    self.linear = torch.nn.Linear(input_dim, output_dim)\n",
        "  def forward(self, x):\n",
        "    outputs = torch.sigmoid(self.linear(x))\n",
        "    return outputs"
      ],
      "metadata": {
        "id": "wWkwnRKAOh1T"
      },
      "execution_count": 8,
      "outputs": []
    },
    {
      "cell_type": "code",
      "source": [
        "m = nn.Linear(20, 30) # 20짜리 input 받아서 30 dim 짜리 output 만들어주는 -> 20 x 30 = 600개 파라미터 필요 \n",
        "input = torch.randn(128, 20) \n",
        "output = m(input)\n",
        "print(output.shape)\n",
        "print(m.weight.shape)"
      ],
      "metadata": {
        "colab": {
          "base_uri": "https://localhost:8080/"
        },
        "id": "n0zJ9PgKQTcV",
        "outputId": "58e2bf4c-5cb9-4bb0-dc3f-3f9fe0d43102"
      },
      "execution_count": 9,
      "outputs": [
        {
          "output_type": "stream",
          "name": "stdout",
          "text": [
            "torch.Size([128, 30])\n",
            "torch.Size([30, 20])\n"
          ]
        }
      ]
    },
    {
      "cell_type": "markdown",
      "source": [
        "## y = xAT + b\n",
        "- x : input / AT : 파라미터 \n",
        "- input x parameter = 한 데이터에 대해서 128행 20열짜리 매트릭스 나옴\n",
        "  * 그럼 한 벡터가 데이터가 된다 근데 Transpose 했으므로 \n",
        "     (AT는 20행 30열 매트릭스가 됨) -> 강의 다시 들어봐야할 듯\n",
        "\n",
        "\n",
        "< torch.nn.Linear의 역할 = fully connected layer >\n",
        "- 원래 20dim(열) 짜리 input 128개가 있었는데 20 x 30 매트릭스(파라미터)를 곱해서 transpose를 해주니까 30 dim을 갖는 128짜리 데이터로 데이터가 transformation 되었다. \n"
      ],
      "metadata": {
        "id": "2ldVST5ZRoyC"
      }
    },
    {
      "cell_type": "markdown",
      "source": [
        "### Training 관련 hyper parameter 결정\n",
        "- loss를 줄이는 방향으로(parameter) \n",
        "- 모델 외 에폭, 학습률 같은 변수 (hyper parameter)"
      ],
      "metadata": {
        "id": "AKuJJgT-StF_"
      }
    },
    {
      "cell_type": "code",
      "source": [
        "# hyper parameter \n",
        "epochs = 1000\n",
        "input_dim = 784\n",
        "output_dim = 10\n",
        "lr = 0.001\n",
        "\n",
        "model = LogisticRegression(input_dim, output_dim)\n",
        "model = model.to(device)\n",
        "criterion = torch.nn.CrossEntropyLoss()\n",
        "optimizer = torch.optim.SGD(model.parameters(), lr=lr)"
      ],
      "metadata": {
        "id": "OjLzcVyvQbQQ"
      },
      "execution_count": 14,
      "outputs": []
    },
    {
      "cell_type": "markdown",
      "source": [
        "### Training and Test"
      ],
      "metadata": {
        "id": "gg05ALDSTFxQ"
      }
    },
    {
      "cell_type": "code",
      "source": [
        "loss_save_arr = []\n",
        "for i in range(epochs):\n",
        "  ## train ##\n",
        "  model.train()\n",
        "  optimizer.zero_grad()\n",
        "  output = model(X_train)\n",
        "  loss = criterion(output, y_train.long())\n",
        "  #l2_lambda = 0.001\n",
        "  #l2_norm = sum(p.pow(2.0).sum() for p in model.parameters())\n",
        "  #loss = loss + l2_lambda * l2_norm\n",
        "  loss.backward()\n",
        "  optimizer.step()\n",
        "  loss_save_arr.append(loss.data)\n",
        "  if(i%100==0):\n",
        "    print(\"=====\")\n",
        "    print('epoch', i)\n",
        "    print('loss', loss.data)\n",
        "    _, pred = torch.max(output.data, axis=1)\n",
        "    print(\"train_accuracy {:0.3f}\".format(float((pred==y_train).sum())/y_train.size(0)))\n",
        "    ### test ###\n",
        "    model.eval()\n",
        "    with torch.no_grad():\n",
        "      output = model(X_test)\n",
        "      _, pred = torch.max(output.data, axis=1)\n",
        "      print(\"train_accuracy {:0.3f}\".format(float((pred==y_test).sum())/y_test.size(0)))"
      ],
      "metadata": {
        "colab": {
          "base_uri": "https://localhost:8080/"
        },
        "id": "rC6FNzbKTEEp",
        "outputId": "f8797131-ad6f-425d-c685-0478d46cd4ad"
      },
      "execution_count": 15,
      "outputs": [
        {
          "output_type": "stream",
          "name": "stdout",
          "text": [
            "=====\n",
            "epoch 0\n",
            "loss tensor(2.3618)\n",
            "train_accuracy 0.061\n",
            "train_accuracy 0.059\n",
            "=====\n",
            "epoch 100\n",
            "loss tensor(1.9536)\n",
            "train_accuracy 0.327\n",
            "train_accuracy 0.326\n",
            "=====\n",
            "epoch 200\n",
            "loss tensor(1.8379)\n",
            "train_accuracy 0.523\n",
            "train_accuracy 0.519\n",
            "=====\n",
            "epoch 300\n",
            "loss tensor(1.7903)\n",
            "train_accuracy 0.613\n",
            "train_accuracy 0.610\n",
            "=====\n",
            "epoch 400\n",
            "loss tensor(1.7637)\n",
            "train_accuracy 0.657\n",
            "train_accuracy 0.653\n",
            "=====\n",
            "epoch 500\n",
            "loss tensor(1.7471)\n",
            "train_accuracy 0.680\n",
            "train_accuracy 0.678\n",
            "=====\n",
            "epoch 600\n",
            "loss tensor(1.7354)\n",
            "train_accuracy 0.695\n",
            "train_accuracy 0.696\n",
            "=====\n",
            "epoch 700\n",
            "loss tensor(1.7269)\n",
            "train_accuracy 0.705\n",
            "train_accuracy 0.705\n",
            "=====\n",
            "epoch 800\n",
            "loss tensor(1.7195)\n",
            "train_accuracy 0.713\n",
            "train_accuracy 0.712\n",
            "=====\n",
            "epoch 900\n",
            "loss tensor(1.7133)\n",
            "train_accuracy 0.721\n",
            "train_accuracy 0.719\n"
          ]
        }
      ]
    },
    {
      "cell_type": "code",
      "source": [
        "import matplotlib.pyplot as plt\n",
        "%matplotlib inline\n",
        "plt.plot(range(epochs), [e.to(\"cpu\") for e in loss_save_arr])"
      ],
      "metadata": {
        "colab": {
          "base_uri": "https://localhost:8080/",
          "height": 283
        },
        "id": "aQ8mnDNcT8rN",
        "outputId": "2c8e2ebc-cee0-4610-ec68-eacec5e1ae02"
      },
      "execution_count": 16,
      "outputs": [
        {
          "output_type": "execute_result",
          "data": {
            "text/plain": [
              "[<matplotlib.lines.Line2D at 0x7f4cdbcb4490>]"
            ]
          },
          "metadata": {},
          "execution_count": 16
        },
        {
          "output_type": "display_data",
          "data": {
            "text/plain": [
              "<Figure size 432x288 with 1 Axes>"
            ],
            "image/png": "[encoded data removed]"
          },
          "metadata": {
            "needs_background": "light"
          }
        }
      ]
    },
    {
      "cell_type": "markdown",
      "source": [
        "## 정확도를 높이려면? "
      ],
      "metadata": {
        "id": "ziNdzTXXWY_4"
      }
    },
    {
      "cell_type": "code",
      "source": [
        "loss_save_arr = []\n",
        "for i in range(epochs):\n",
        "  ## train ##\n",
        "  model.train()\n",
        "  optimizer.zero_grad()\n",
        "  output = model(X_train)\n",
        "  loss = criterion(output, y_train.long())\n",
        "  l2_lambda = 0.001\n",
        "  l2_norm = sum(p.pow(2.0).sum() for p in model.parameters())\n",
        "  loss = loss + l2_lambda * l2_norm\n",
        "  loss.backward()\n",
        "  optimizer.step()\n",
        "  loss_save_arr.append(loss.data)\n",
        "  if(i%100==0):\n",
        "    print(\"=====\")\n",
        "    print('epoch', i)\n",
        "    print('loss', loss.data)\n",
        "    _, pred = torch.max(output.data, axis=1)\n",
        "    print(\"train_accuracy {:0.3f}\".format(float((pred==y_train).sum())/y_train.size(0)))\n",
        "    ### test ###\n",
        "    model.eval()\n",
        "    with torch.no_grad():\n",
        "      output = model(X_test)\n",
        "      _, pred = torch.max(output.data, axis=1)\n",
        "      print(\"train_accuracy {:0.3f}\".format(float((pred==y_test).sum())/y_test.size(0)))"
      ],
      "metadata": {
        "colab": {
          "base_uri": "https://localhost:8080/"
        },
        "id": "eagHB-y5VK0Q",
        "outputId": "a55ebdf7-7160-40e5-9f17-00e231a95a9c"
      },
      "execution_count": 17,
      "outputs": [
        {
          "output_type": "stream",
          "name": "stdout",
          "text": [
            "=====\n",
            "epoch 0\n",
            "loss tensor(1.7115)\n",
            "train_accuracy 0.726\n",
            "train_accuracy 0.726\n",
            "=====\n",
            "epoch 100\n",
            "loss tensor(1.7073)\n",
            "train_accuracy 0.730\n",
            "train_accuracy 0.730\n",
            "=====\n",
            "epoch 200\n",
            "loss tensor(1.7038)\n",
            "train_accuracy 0.734\n",
            "train_accuracy 0.732\n",
            "=====\n",
            "epoch 300\n",
            "loss tensor(1.7007)\n",
            "train_accuracy 0.737\n",
            "train_accuracy 0.735\n",
            "=====\n",
            "epoch 400\n",
            "loss tensor(1.6980)\n",
            "train_accuracy 0.740\n",
            "train_accuracy 0.738\n",
            "=====\n",
            "epoch 500\n",
            "loss tensor(1.6954)\n",
            "train_accuracy 0.742\n",
            "train_accuracy 0.740\n",
            "=====\n",
            "epoch 600\n",
            "loss tensor(1.6931)\n",
            "train_accuracy 0.744\n",
            "train_accuracy 0.743\n",
            "=====\n",
            "epoch 700\n",
            "loss tensor(1.6912)\n",
            "train_accuracy 0.746\n",
            "train_accuracy 0.745\n",
            "=====\n",
            "epoch 800\n",
            "loss tensor(1.6895)\n",
            "train_accuracy 0.747\n",
            "train_accuracy 0.747\n",
            "=====\n",
            "epoch 900\n",
            "loss tensor(1.6879)\n",
            "train_accuracy 0.749\n",
            "train_accuracy 0.748\n"
          ]
        }
      ]
    },
    {
      "cell_type": "code",
      "source": [
        ""
      ],
      "metadata": {
        "id": "csGxlGgIWfIT"
      },
      "execution_count": null,
      "outputs": []
    }
  ]
}